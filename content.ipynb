{
 "cells": [
  {
   "cell_type": "code",
   "execution_count": 21,
   "metadata": {},
   "outputs": [],
   "source": [
    "import pandas as pd"
   ]
  },
  {
   "cell_type": "code",
   "execution_count": 22,
   "metadata": {},
   "outputs": [],
   "source": [
    "# Calculation of historical moving averages of closing price (10 and 30 days of trading)\n",
    "def MA(df, period):\n",
    "    MA = pd.Series(df['Close'].rolling(period, min_periods=period).mean(), name='MA_' + str(period))\n",
    "    return MA\n",
    "\n",
    "#calculation of exponential moving average of closing price (10 and 30 days of trading)\n",
    "def EMA(df, period):\n",
    "    EMA = pd.Series(df['Close'].ewm(span=period, min_periods=period).mean(), name='EMA_' + str(period))\n",
    "    return EMA\n",
    "\n",
    "#Calculation of closing price momentum (10 and 30 days of trading)\n",
    "def MOM(df, period):   \n",
    "    MOM = pd.Series(df.diff(period), name='Momentum_' + str(period))   \n",
    "    return MOM\n",
    "\n",
    "def calculate_RSI(data, window):\n",
    "    diff = data.diff(1)\n",
    "    up = diff.where(diff > 0, 0.0)\n",
    "    down = -1 * diff.where(diff < 0, 0.0)\n",
    "    \n",
    "    ema_up = up.ewm(com=window - 1, adjust=False).mean()\n",
    "    ema_down = down.ewm(com=window - 1, adjust=False).mean()\n",
    "    \n",
    "    rs = ema_up / ema_down\n",
    "    \n",
    "    return 100 - (100 / (1.0 + rs))\n",
    "\n",
    "import os\n",
    "import glob\n",
    "\n",
    "path = 'Dataset'\n",
    "all_files = glob.glob(path + '/*.csv')\n",
    "\n",
    "for file in all_files:\n",
    "    Stock = pd.read_csv(file)\n",
    "    Stock['MA10'] = MA(Stock, 10)\n",
    "    Stock['MA30'] = MA(Stock, 30)\n",
    "    Stock['EMA10'] = EMA(Stock, 10)\n",
    "    Stock['EMA30'] = EMA(Stock, 30)\n",
    "    Stock['MOM10'] = MOM(Stock['Close'], 10)\n",
    "    Stock['MOM30'] = MOM(Stock['Close'], 30)\n",
    "    Stock['RSI'] = calculate_RSI(Stock['Close'], 14)\n",
    "    new_record = Stock.tail(1)[['Open', 'High', 'Low', 'Close', 'MA30', 'EMA30', 'RSI']]\n",
    "    new_record.to_csv('stock_content.csv', mode='a', header=False, index=False)"
   ]
  }
 ],
 "metadata": {
  "kernelspec": {
   "display_name": "Python 3",
   "language": "python",
   "name": "python3"
  },
  "language_info": {
   "codemirror_mode": {
    "name": "ipython",
    "version": 3
   },
   "file_extension": ".py",
   "mimetype": "text/x-python",
   "name": "python",
   "nbconvert_exporter": "python",
   "pygments_lexer": "ipython3",
   "version": "3.11.4"
  }
 },
 "nbformat": 4,
 "nbformat_minor": 2
}
